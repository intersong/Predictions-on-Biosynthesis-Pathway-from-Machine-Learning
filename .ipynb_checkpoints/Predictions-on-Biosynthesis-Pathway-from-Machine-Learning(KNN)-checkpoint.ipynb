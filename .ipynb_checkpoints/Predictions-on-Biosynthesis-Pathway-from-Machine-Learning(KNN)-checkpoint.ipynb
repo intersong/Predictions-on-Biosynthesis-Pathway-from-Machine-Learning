{
 "cells": [
  {
   "cell_type": "code",
   "execution_count": 5,
   "metadata": {
    "collapsed": false
   },
   "outputs": [],
   "source": [
    "from sklearn.learning_curve import learning_curve \n",
    "from sklearn.svm import SVC \n",
    "import matplotlib.pyplot as plt \n",
    "import numpy as np\n",
    "from sklearn.cross_validation import train_test_split \n",
    "from sklearn.neighbors import KNeighborsClassifier \n",
    "import pandas as pd\n",
    "%matplotlib inline\n",
    "\n",
    "data = pd.read_csv(\"Initial_screening_as_training_data.csv\")\n",
    "data.head()\n",
    "\n",
    "# Treat the new assembled pathway with production lower than 50% of original pathway as negative. Otherwise positive.\n",
    "positive = data[data['Normalized Production Amount Compared to Original Biosynthesis Pathway']>=0.5]  \n",
    "negative = data[data['Normalized Production Amount Compared to Original Biosynthesis Pathway']<0.5]\n",
    "\n",
    "negative.insert(2,'Positive',2)    # label negative combination as '2' as a new column\n",
    "positive.insert(2, 'Positive',1)   # label positive combinations as '1' as a new column\n",
    "\n",
    "data_processed = positive.append(negative, ignore_index= True)\n",
    "data_processed.drop('Normalized Production Amount Compared to Original Biosynthesis Pathway', axis=1, inplace=True)\n",
    "#print(data1)\n",
    "\n",
    "X = data_processed.ix[ :,['Cassette Part 1 Analogues No.','Cassette Part 2 Analogues No.']].values\n",
    "y = data_processed['Positive'].values"
   ]
  },
  {
   "cell_type": "code",
   "execution_count": 6,
   "metadata": {
    "collapsed": false
   },
   "outputs": [
    {
     "name": "stdout",
     "output_type": "stream",
     "text": [
      "0.888888888889\n"
     ]
    }
   ],
   "source": [
    "X_train, X_test, y_train, y_test = train_test_split(X, y, random_state=4)\n",
    "\n",
    "knn = KNeighborsClassifier(n_neighbors=3)\n",
    "knn.fit(X_train, y_train)\n",
    "print(knn.score(X_test, y_test))"
   ]
  },
  {
   "cell_type": "code",
   "execution_count": 7,
   "metadata": {
    "collapsed": false
   },
   "outputs": [
    {
     "name": "stdout",
     "output_type": "stream",
     "text": [
      "[ 0.75        0.875       0.875       0.83333333  0.33333333]\n",
      "0.733333333333\n"
     ]
    }
   ],
   "source": [
    "from sklearn.cross_validation import cross_val_score \n",
    "\n",
    "scores = cross_val_score(knn, X, y, cv=5, scoring='accuracy')\n",
    "\n",
    "print(scores)\n",
    "print(scores.mean())"
   ]
  },
  {
   "cell_type": "code",
   "execution_count": 9,
   "metadata": {
    "collapsed": false
   },
   "outputs": [
    {
     "name": "stdout",
     "output_type": "stream",
     "text": [
      "[[ 1  1  1 ..., 46 46 46]\n",
      " [ 1  2  3 ..., 21 22 23]]\n"
     ]
    }
   ],
   "source": [
    "# Plot 2-D graph with predictions to show the possible hits to be focused on \n",
    "Cassette_Part_1_Analogues=[]\n",
    "i=0\n",
    "for i in range(46):\n",
    "    i = i+1\n",
    "    for j in range(23):\n",
    "        Cassette_Part_1_Analogues.append(i)\n",
    "\n",
    "\n",
    "Cassette_Part_2_Analogues=[]\n",
    "k=0\n",
    "for k in range(46):\n",
    "    a=0\n",
    "    for a in range(23):\n",
    "        a= a+1\n",
    "        Cassette_Part_2_Analogues.append(a)\n",
    "\n",
    "\n",
    "A = np.array(Cassette_Part_1_Analogues)\n",
    "B = np.array(Cassette_Part_2_Analogues)\n",
    "\n",
    "D = np.vstack((A,B))   # horizontal stack\n",
    "\n",
    "print(D)"
   ]
  },
  {
   "cell_type": "code",
   "execution_count": 10,
   "metadata": {
    "collapsed": false,
    "scrolled": true
   },
   "outputs": [
    {
     "name": "stdout",
     "output_type": "stream",
     "text": [
      "[[ 1  1]\n",
      " [ 1  2]\n",
      " [ 1  3]\n",
      " ..., \n",
      " [46 21]\n",
      " [46 22]\n",
      " [46 23]]\n"
     ]
    }
   ],
   "source": [
    "F = D.T\n",
    "print(F)"
   ]
  },
  {
   "cell_type": "code",
   "execution_count": 11,
   "metadata": {
    "collapsed": false,
    "scrolled": true
   },
   "outputs": [
    {
     "name": "stdout",
     "output_type": "stream",
     "text": [
      "[2 2 2 ..., 2 2 2]\n"
     ]
    }
   ],
   "source": [
    "predictions = knn.predict(F)\n",
    "print(predictions)"
   ]
  },
  {
   "cell_type": "code",
   "execution_count": 12,
   "metadata": {
    "collapsed": false
   },
   "outputs": [
    {
     "name": "stdout",
     "output_type": "stream",
     "text": [
      "(1, 1058) (1058, 2) (1058,)\n"
     ]
    }
   ],
   "source": [
    "G = predictions[np.newaxis,:]\n",
    "print(G.shape, F.shape, predictions.shape) # predictions are need to be added 1 dimension to match with F array."
   ]
  },
  {
   "cell_type": "code",
   "execution_count": 13,
   "metadata": {
    "collapsed": false
   },
   "outputs": [
    {
     "name": "stdout",
     "output_type": "stream",
     "text": [
      "[[2]\n",
      " [2]\n",
      " [2]\n",
      " ..., \n",
      " [2]\n",
      " [2]\n",
      " [2]] (1058, 1)\n"
     ]
    }
   ],
   "source": [
    "Predictions_transformed = G.T\n",
    "print(Predictions_transformed, Predictions_transformed.shape)"
   ]
  },
  {
   "cell_type": "code",
   "execution_count": 14,
   "metadata": {
    "collapsed": false,
    "scrolled": true
   },
   "outputs": [
    {
     "name": "stdout",
     "output_type": "stream",
     "text": [
      "[[ 1  1  2]\n",
      " [ 1  2  2]\n",
      " [ 1  3  2]\n",
      " ..., \n",
      " [46 21  2]\n",
      " [46 22  2]\n",
      " [46 23  2]]\n"
     ]
    }
   ],
   "source": [
    "Predicted_results = np.hstack((F,Predictions_transformed))\n",
    "print(Predicted_results)"
   ]
  },
  {
   "cell_type": "code",
   "execution_count": 15,
   "metadata": {
    "collapsed": false,
    "scrolled": true
   },
   "outputs": [
    {
     "name": "stdout",
     "output_type": "stream",
     "text": [
      "     Cassette_Part_1_Analogues  Cassette_Part_2_Analogues  Predicted_Positive?\n",
      "0                            1                          1                    2\n",
      "1                            1                          2                    2\n",
      "2                            1                          3                    2\n",
      "3                            1                          4                    2\n",
      "4                            1                          5                    2\n",
      "5                            1                          6                    2\n",
      "6                            1                          7                    2\n",
      "7                            1                          8                    2\n",
      "8                            1                          9                    2\n",
      "9                            1                         10                    2\n",
      "10                           1                         11                    2\n",
      "11                           1                         12                    2\n",
      "12                           1                         13                    2\n",
      "13                           1                         14                    2\n",
      "14                           1                         15                    2\n",
      "15                           1                         16                    2\n",
      "16                           1                         17                    2\n",
      "17                           1                         18                    2\n",
      "18                           1                         19                    2\n",
      "19                           1                         20                    2\n",
      "20                           1                         21                    2\n",
      "21                           1                         22                    2\n",
      "22                           1                         23                    2\n",
      "23                           2                          1                    2\n",
      "24                           2                          2                    2\n",
      "25                           2                          3                    2\n",
      "26                           2                          4                    2\n",
      "27                           2                          5                    2\n",
      "28                           2                          6                    2\n",
      "29                           2                          7                    2\n",
      "..                         ...                        ...                  ...\n",
      "970                         43                          5                    2\n",
      "971                         43                          6                    2\n",
      "972                         43                          7                    2\n",
      "973                         43                          8                    2\n",
      "974                         43                          9                    2\n",
      "975                         43                         10                    2\n",
      "976                         43                         11                    2\n",
      "977                         43                         12                    2\n",
      "978                         43                         13                    2\n",
      "979                         43                         14                    2\n",
      "980                         43                         15                    2\n",
      "981                         43                         16                    2\n",
      "982                         43                         17                    2\n",
      "983                         43                         18                    2\n",
      "984                         43                         19                    2\n",
      "985                         43                         20                    2\n",
      "986                         43                         21                    2\n",
      "987                         43                         22                    2\n",
      "988                         43                         23                    2\n",
      "989                         44                          1                    2\n",
      "990                         44                          2                    2\n",
      "991                         44                          3                    2\n",
      "992                         44                          4                    2\n",
      "993                         44                          5                    2\n",
      "994                         44                          6                    2\n",
      "995                         44                          7                    2\n",
      "996                         44                          8                    2\n",
      "997                         44                          9                    2\n",
      "998                         44                         10                    2\n",
      "999                         44                         11                    2\n",
      "\n",
      "[1000 rows x 3 columns]\n"
     ]
    }
   ],
   "source": [
    "Predicted_df = pd.DataFrame({'Cassette_Part_1_Analogues':Predicted_results[:,0],'Cassette_Part_2_Analogues':Predicted_results[:,1],'Predicted_Positive?':Predicted_results[:,2]})\n",
    "print(Predicted_df.head(1000))"
   ]
  },
  {
   "cell_type": "code",
   "execution_count": 17,
   "metadata": {
    "collapsed": false
   },
   "outputs": [
    {
     "data": {
      "image/png": "[encoded data removed]",
      "text/plain": [
       "<matplotlib.figure.Figure at 0x117119c88>"
      ]
     },
     "metadata": {},
     "output_type": "display_data"
    }
   ],
   "source": [
    "positive = Predicted_df[Predicted_df['Predicted_Positive?']==1]\n",
    "negative = Predicted_df[Predicted_df['Predicted_Positive?']==2]\n",
    "\n",
    "fig, ax = plt.subplots(figsize=(12,8))\n",
    "ax.scatter(positive['Cassette_Part_1_Analogues'], positive['Cassette_Part_2_Analogues'], s=50, c='b', marker='o', label='>=0.5')\n",
    "ax.scatter(negative['Cassette_Part_1_Analogues'], negative['Cassette_Part_2_Analogues'], s=50, c='r', marker='x', label='<0.5')\n",
    "ax.set_xlabel('Cassette_Part_1_Analogues')\n",
    "ax.set_ylabel('Cassette_Part_2_Analogues')\n",
    "plt.show()\n",
    "\n",
    "# The combination showed with blue spots are the predicted positive combination and need be prioritized.  \n"
   ]
  },
  {
   "cell_type": "code",
   "execution_count": null,
   "metadata": {
    "collapsed": true
   },
   "outputs": [],
   "source": []
  }
 ],
 "metadata": {
  "anaconda-cloud": {},
  "kernelspec": {
   "display_name": "Python [default]",
   "language": "python",
   "name": "python3"
  },
  "language_info": {
   "codemirror_mode": {
    "name": "ipython",
    "version": 3
   },
   "file_extension": ".py",
   "mimetype": "text/x-python",
   "name": "python",
   "nbconvert_exporter": "python",
   "pygments_lexer": "ipython3",
   "version": "3.5.2"
  }
 },
 "nbformat": 4,
 "nbformat_minor": 1
}
